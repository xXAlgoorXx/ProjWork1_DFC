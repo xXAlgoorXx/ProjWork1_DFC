{
 "cells": [
  {
   "cell_type": "markdown",
   "metadata": {},
   "source": [
    "# DFC compiler\n",
    "\n",
    "This file is used to compile a onnx file into a hef file\n"
   ]
  },
  {
   "cell_type": "markdown",
   "metadata": {},
   "source": [
    "## Onnx to har"
   ]
  },
  {
   "cell_type": "code",
   "execution_count": 1,
   "metadata": {},
   "outputs": [
    {
     "name": "stderr",
     "output_type": "stream",
     "text": [
      "2024-10-23 11:48:54.870608: I tensorflow/core/util/port.cc:110] oneDNN custom operations are on. You may see slightly different numerical results due to floating-point round-off errors from different computation orders. To turn them off, set the environment variable `TF_ENABLE_ONEDNN_OPTS=0`.\n",
      "2024-10-23 11:48:54.871700: I tensorflow/tsl/cuda/cudart_stub.cc:28] Could not find cuda drivers on your machine, GPU will not be used.\n",
      "2024-10-23 11:48:54.893926: I tensorflow/tsl/cuda/cudart_stub.cc:28] Could not find cuda drivers on your machine, GPU will not be used.\n",
      "2024-10-23 11:48:54.894329: I tensorflow/core/platform/cpu_feature_guard.cc:182] This TensorFlow binary is optimized to use available CPU instructions in performance-critical operations.\n",
      "To enable the following instructions: AVX2 AVX_VNNI FMA, in other operations, rebuild TensorFlow with the appropriate compiler flags.\n",
      "2024-10-23 11:48:55.296450: W tensorflow/compiler/tf2tensorrt/utils/py_utils.cc:38] TF-TRT Warning: Could not find TensorRT\n"
     ]
    },
    {
     "name": "stdout",
     "output_type": "stream",
     "text": [
      "1.14.0\n",
      "[info] Translation started on ONNX model RN50\n",
      "[info] Restored ONNX model RN50 (completion time: 00:00:00.38)\n",
      "[info] Extracted ONNXRuntime meta-data for Hailo model (completion time: 00:00:01.79)\n",
      "[info] Simplified ONNX model for a parsing retry attempt (completion time: 00:00:03.19)\n",
      "[info] Start nodes mapped from original model: 'modelInput': 'RN50/input_layer1'.\n",
      "[info] End nodes mapped from original model: '/attnpool/Squeeze'.\n",
      "[info] Translation completed on ONNX model RN50 (completion time: 00:00:03.46)\n",
      "[info] Saved HAR to: /home/lukasschoepf/Documents/ProjWork1_DFC/hailoDFC/Harfiles/RN50_hailo_model.har\n"
     ]
    }
   ],
   "source": [
    "# General imports used throughout the tutorial\n",
    "import tensorflow as tf\n",
    "from IPython.display import SVG\n",
    "from pathlib import Path\n",
    "\n",
    "modelPath = Path(\"models\")\n",
    "# import the ClientRunner class from the hailo_sdk_client package\n",
    "from hailo_sdk_client import ClientRunner\n",
    "import onnx\n",
    "print(onnx.__version__)\n",
    "chosen_hw_arch = \"hailo8\"\n",
    "\n",
    "onnx_model_name = \"RN50\"\n",
    "onnx_path = modelPath / f\"{onnx_model_name}.onnx\"\n",
    "\n",
    "runner = ClientRunner(hw_arch=chosen_hw_arch)\n",
    "\n",
    "hn, npz = runner.translate_onnx_model(\n",
    "    str(onnx_path),\n",
    "    onnx_model_name,\n",
    "    # start_node_names=[\"modelInput\"],\n",
    "    # end_node_names=[\"modelOutput\"],\n",
    "    # disable_rt_metadata_extraction=True,\n",
    "    # disable_shape_inference=True,\n",
    "    # net_input_shapes={\"modelInput\": [1, 3, 224, 224]}\n",
    ")\n",
    "\n",
    "hailo_model_har_name = f\"Harfiles/{onnx_model_name}_hailo_model.har\"\n",
    "runner.save_har(hailo_model_har_name)"
   ]
  },
  {
   "cell_type": "markdown",
   "metadata": {},
   "source": [
    "### Visualization"
   ]
  },
  {
   "cell_type": "code",
   "execution_count": 2,
   "metadata": {},
   "outputs": [
    {
     "name": "stdout",
     "output_type": "stream",
     "text": [
      "[\u001b[32minfo\u001b[0m] Current Time: 11:49:06, 10/23/24\n",
      "[\u001b[32minfo\u001b[0m] CPU: Architecture: x86_64, Model: Intel(R) Core(TM) i7-14700, Number Of Cores: 28, Utilization: 3.0%\n",
      "[\u001b[32minfo\u001b[0m] Memory: Total: 31GB, Available: 23GB\n",
      "[\u001b[32minfo\u001b[0m] System info: OS: Linux, Kernel: 6.8.0-47-generic\n",
      "[\u001b[32minfo\u001b[0m] Hailo DFC Version: 3.29.0\n",
      "[\u001b[32minfo\u001b[0m] HailoRT Version: Not Installed\n",
      "[\u001b[32minfo\u001b[0m] PCIe: No Hailo PCIe device was found\n",
      "[\u001b[32minfo\u001b[0m] Running `hailo visualizer Harfiles/RN50_hailo_model.har`\n"
     ]
    }
   ],
   "source": [
    "\n",
    "!hailo visualizer {hailo_model_har_name} "
   ]
  },
  {
   "cell_type": "markdown",
   "metadata": {},
   "source": [
    "## Har to har(optimized)"
   ]
  },
  {
   "cell_type": "code",
   "execution_count": 2,
   "metadata": {},
   "outputs": [],
   "source": [
    "# General imports used throughout the tutorial\n",
    "# file operations\n",
    "import json\n",
    "import os\n",
    "\n",
    "import numpy as np\n",
    "import tensorflow as tf\n",
    "from IPython.display import SVG\n",
    "from matplotlib import patches\n",
    "from matplotlib import pyplot as plt\n",
    "from PIL import Image\n",
    "from tensorflow.python.eager.context import eager_mode\n",
    "from pathlib import Path\n",
    "\n",
    "# import the hailo sdk client relevant classes\n",
    "from hailo_sdk_client import ClientRunner, InferenceContext\n",
    "\n",
    "%matplotlib inline\n",
    "\n",
    "# preprocessing\n",
    "from torchvision.transforms import Compose, Resize, CenterCrop, ToTensor, Normalize, PILToTensor\n",
    "import torch\n",
    "\n",
    "try:\n",
    "    from torchvision.transforms import InterpolationMode\n",
    "    BICUBIC = InterpolationMode.BICUBIC\n",
    "except ImportError:\n",
    "    BICUBIC = Image.BICUBIC\n",
    "\n",
    "harPath = Path(\"Harfiles\")\n",
    "datafolder = Path(\"../../Data\")\n",
    "input_folder = datafolder / '02_data/hexagon_images/candolle_5patches'\n",
    "calibFolder = datafolder / \"calibData\""
   ]
  },
  {
   "cell_type": "markdown",
   "metadata": {},
   "source": [
    "### Preprocess\n",
    "\n",
    "For optimization a dataset is used."
   ]
  },
  {
   "cell_type": "code",
   "execution_count": 9,
   "metadata": {},
   "outputs": [
    {
     "ename": "KeyboardInterrupt",
     "evalue": "",
     "output_type": "error",
     "traceback": [
      "\u001b[0;31m---------------------------------------------------------------------------\u001b[0m",
      "\u001b[0;31mKeyboardInterrupt\u001b[0m                         Traceback (most recent call last)",
      "Cell \u001b[0;32mIn[9], line 37\u001b[0m\n\u001b[1;32m     35\u001b[0m     img_preproc \u001b[38;5;241m=\u001b[39m preprocess(img)\n\u001b[1;32m     36\u001b[0m     img_transposed \u001b[38;5;241m=\u001b[39m np\u001b[38;5;241m.\u001b[39mtranspose(img_preproc\u001b[38;5;241m.\u001b[39mnumpy(),(\u001b[38;5;241m1\u001b[39m,\u001b[38;5;241m2\u001b[39m,\u001b[38;5;241m0\u001b[39m))\n\u001b[0;32m---> 37\u001b[0m     calib_dataset[idx, :, :, :] \u001b[38;5;241m=\u001b[39m img_transposed\n\u001b[1;32m     39\u001b[0m np\u001b[38;5;241m.\u001b[39msave(calibFolder \u001b[38;5;241m/\u001b[39m \u001b[38;5;124m\"\u001b[39m\u001b[38;5;124mcalib_set.npy\u001b[39m\u001b[38;5;124m\"\u001b[39m, calib_dataset)\n",
      "\u001b[0;31mKeyboardInterrupt\u001b[0m: "
     ]
    }
   ],
   "source": [
    "\n",
    "def _convert_image_to_rgb(image):\n",
    "    return image.convert(\"RGB\")\n",
    "\n",
    "def transform(n_px):\n",
    "    \"\"\"\n",
    "    n_px: input resolution of the network\n",
    "    \"\"\"\n",
    "    return Compose([\n",
    "        Resize(n_px, interpolation=BICUBIC),\n",
    "        CenterCrop(n_px),\n",
    "        _convert_image_to_rgb,\n",
    "        ToTensor(),\n",
    "        # Normalize((0.48145466, 0.4578275, 0.40821073), (0.26862954, 0.26130258, 0.27577711)),\n",
    "    ])\n",
    "\n",
    "# First, we will prepare the calibration set. Resize the images to the correct size and crop them.\n",
    "def preproc(image, output_height=224, output_width=224, resize_side=256):\n",
    "    \"\"\"imagenet-standard: aspect-preserving resize to 256px smaller-side, then central-crop to 224px\"\"\"\n",
    "    with eager_mode():\n",
    "        h, w = image.shape[0], image.shape[1]\n",
    "        scale = tf.cond(tf.less(h, w), lambda: resize_side / h, lambda: resize_side / w)\n",
    "        resized_image = tf.compat.v1.image.resize_bilinear(tf.expand_dims(image, 0), [int(h * scale), int(w * scale)])\n",
    "        cropped_image = tf.compat.v1.image.resize_with_crop_or_pad(resized_image, output_height, output_width)\n",
    "\n",
    "        return tf.squeeze(cropped_image)\n",
    "\n",
    "preprocess = transform(224)\n",
    "images_list = [img_name for img_name in os.listdir(input_folder) if os.path.splitext(img_name)[1] == \".jpg\"]\n",
    "\n",
    "calib_dataset = np.zeros((len(images_list), 224, 224, 3))\n",
    "for idx, img_name in enumerate(sorted(images_list)):\n",
    "    img = Image.open(os.path.join(input_folder, img_name))\n",
    "    # img = PILToTensor(img)\n",
    "    img_preproc = preprocess(img)\n",
    "    img_transposed = np.transpose(img_preproc.numpy(),(1,2,0))\n",
    "    calib_dataset[idx, :, :, :] = img_transposed\n",
    "\n",
    "np.save(calibFolder / \"calib_set.npy\", calib_dataset)"
   ]
  },
  {
   "cell_type": "code",
   "execution_count": 7,
   "metadata": {},
   "outputs": [],
   "source": [
    "# Second, we will load our parsed HAR from the Parsing Tutorial\n",
    "\n",
    "model_name = \"RN50\"\n",
    "hailo_model_har_name = f\"{model_name}_hailo_model.har\"\n",
    "hailo_model_har_path = harPath / hailo_model_har_name\n",
    "assert os.path.isfile(hailo_model_har_path), \"Please provide valid path for HAR file\"\n",
    "runner = ClientRunner(har=str(hailo_model_har_path),hw_arch=\"hailo8\")\n",
    "# By default it uses the hw_arch that is saved on the HAR. For overriding, use the hw_arch flag."
   ]
  },
  {
   "cell_type": "code",
   "execution_count": 8,
   "metadata": {},
   "outputs": [
    {
     "name": "stdout",
     "output_type": "stream",
     "text": [
      "[info] Loading model script commands to RN50 from string\n",
      "[info] Starting Model Optimization\n",
      "[warning] Reducing optimization level to 0 (the accuracy won't be optimized and compression won't be used) because there's no available GPU\n",
      "[warning] Running model optimization with zero level of optimization is not recommended for production use and might lead to suboptimal accuracy results\n",
      "[info] Model received quantization params from the hn\n",
      "[info] Starting Mixed Precision\n",
      "[info] Mixed Precision is done (completion time is 00:00:00.77)\n",
      "[info] LayerNorm Decomposition skipped\n",
      "[info] Starting Statistics Collector\n",
      "[info] Using dataset with 64 entries for calibration\n"
     ]
    },
    {
     "name": "stderr",
     "output_type": "stream",
     "text": [
      "Calibration:   0%|          | 0/64 [00:00<?, ?entries/s]2024-10-23 10:37:03.212020: I tensorflow/core/common_runtime/executor.cc:1197] [/device:CPU:0] (DEBUG INFO) Executor start aborting (this does not indicate an error and you can ignore this message): INVALID_ARGUMENT: You must feed a value for placeholder tensor 'Placeholder/_0' with dtype int32\n",
      "\t [[{{node Placeholder/_0}}]]\n",
      "2024-10-23 10:37:03.233958: I tensorflow/core/common_runtime/executor.cc:1197] [/device:CPU:0] (DEBUG INFO) Executor start aborting (this does not indicate an error and you can ignore this message): INVALID_ARGUMENT: You must feed a value for placeholder tensor 'Placeholder/_0' with dtype float and shape [1,224,224,3]\n",
      "\t [[{{node Placeholder/_0}}]]\n",
      "Calibration:   2%|▏         | 1/64 [00:18<19:10, 18.26s/entries]2024-10-23 10:37:18.920720: I tensorflow/core/common_runtime/executor.cc:1197] [/device:CPU:0] (DEBUG INFO) Executor start aborting (this does not indicate an error and you can ignore this message): INVALID_ARGUMENT: You must feed a value for placeholder tensor 'Placeholder/_0' with dtype float and shape [1,224,224,3]\n",
      "\t [[{{node Placeholder/_0}}]]\n",
      "2024-10-23 10:37:18.967411: I tensorflow/core/common_runtime/executor.cc:1197] [/device:CPU:0] (DEBUG INFO) Executor start aborting (this does not indicate an error and you can ignore this message): INVALID_ARGUMENT: You must feed a value for placeholder tensor 'Placeholder/_0' with dtype float and shape [1,224,224,3]\n",
      "\t [[{{node Placeholder/_0}}]]\n",
      "2024-10-23 10:37:19.015673: I tensorflow/core/common_runtime/executor.cc:1197] [/device:CPU:0] (DEBUG INFO) Executor start aborting (this does not indicate an error and you can ignore this message): INVALID_ARGUMENT: You must feed a value for placeholder tensor 'Placeholder/_0' with dtype float and shape [1,224,224,3]\n",
      "\t [[{{node Placeholder/_0}}]]\n",
      "Calibration:   6%|▋         | 4/64 [00:18<03:29,  3.49s/entries]2024-10-23 10:37:19.060651: I tensorflow/core/common_runtime/executor.cc:1197] [/device:CPU:0] (DEBUG INFO) Executor start aborting (this does not indicate an error and you can ignore this message): INVALID_ARGUMENT: You must feed a value for placeholder tensor 'Placeholder/_0' with dtype float and shape [1,224,224,3]\n",
      "\t [[{{node Placeholder/_0}}]]\n",
      "2024-10-23 10:37:19.102993: I tensorflow/core/common_runtime/executor.cc:1197] [/device:CPU:0] (DEBUG INFO) Executor start aborting (this does not indicate an error and you can ignore this message): INVALID_ARGUMENT: You must feed a value for placeholder tensor 'Placeholder/_0' with dtype float and shape [1,224,224,3]\n",
      "\t [[{{node Placeholder/_0}}]]\n",
      "2024-10-23 10:37:19.144646: I tensorflow/core/common_runtime/executor.cc:1197] [/device:CPU:0] (DEBUG INFO) Executor start aborting (this does not indicate an error and you can ignore this message): INVALID_ARGUMENT: You must feed a value for placeholder tensor 'Placeholder/_0' with dtype float and shape [1,224,224,3]\n",
      "\t [[{{node Placeholder/_0}}]]\n",
      "Calibration:  11%|█         | 7/64 [00:18<01:33,  1.64s/entries]2024-10-23 10:37:19.186682: I tensorflow/core/common_runtime/executor.cc:1197] [/device:CPU:0] (DEBUG INFO) Executor start aborting (this does not indicate an error and you can ignore this message): INVALID_ARGUMENT: You must feed a value for placeholder tensor 'Placeholder/_0' with dtype float and shape [1,224,224,3]\n",
      "\t [[{{node Placeholder/_0}}]]\n",
      "2024-10-23 10:37:19.228938: I tensorflow/core/common_runtime/executor.cc:1197] [/device:CPU:0] (DEBUG INFO) Executor start aborting (this does not indicate an error and you can ignore this message): INVALID_ARGUMENT: You must feed a value for placeholder tensor 'Placeholder/_0' with dtype float and shape [1,224,224,3]\n",
      "\t [[{{node Placeholder/_0}}]]\n",
      "2024-10-23 10:37:19.270261: I tensorflow/core/common_runtime/executor.cc:1197] [/device:CPU:0] (DEBUG INFO) Executor start aborting (this does not indicate an error and you can ignore this message): INVALID_ARGUMENT: You must feed a value for placeholder tensor 'Placeholder/_0' with dtype float and shape [1,224,224,3]\n",
      "\t [[{{node Placeholder/_0}}]]\n",
      "Calibration:  16%|█▌        | 10/64 [00:18<00:51,  1.06entries/s]2024-10-23 10:37:19.314516: I tensorflow/core/common_runtime/executor.cc:1197] [/device:CPU:0] (DEBUG INFO) Executor start aborting (this does not indicate an error and you can ignore this message): INVALID_ARGUMENT: You must feed a value for placeholder tensor 'Placeholder/_0' with dtype float and shape [1,224,224,3]\n",
      "\t [[{{node Placeholder/_0}}]]\n",
      "2024-10-23 10:37:19.359308: I tensorflow/core/common_runtime/executor.cc:1197] [/device:CPU:0] (DEBUG INFO) Executor start aborting (this does not indicate an error and you can ignore this message): INVALID_ARGUMENT: You must feed a value for placeholder tensor 'Placeholder/_0' with dtype float and shape [1,224,224,3]\n",
      "\t [[{{node Placeholder/_0}}]]\n",
      "2024-10-23 10:37:19.403878: I tensorflow/core/common_runtime/executor.cc:1197] [/device:CPU:0] (DEBUG INFO) Executor start aborting (this does not indicate an error and you can ignore this message): INVALID_ARGUMENT: You must feed a value for placeholder tensor 'Placeholder/_0' with dtype float and shape [1,224,224,3]\n",
      "\t [[{{node Placeholder/_0}}]]\n",
      "Calibration:  20%|██        | 13/64 [00:18<00:30,  1.66entries/s]2024-10-23 10:37:19.448027: I tensorflow/core/common_runtime/executor.cc:1197] [/device:CPU:0] (DEBUG INFO) Executor start aborting (this does not indicate an error and you can ignore this message): INVALID_ARGUMENT: You must feed a value for placeholder tensor 'Placeholder/_0' with dtype float and shape [1,224,224,3]\n",
      "\t [[{{node Placeholder/_0}}]]\n",
      "2024-10-23 10:37:19.495704: I tensorflow/core/common_runtime/executor.cc:1197] [/device:CPU:0] (DEBUG INFO) Executor start aborting (this does not indicate an error and you can ignore this message): INVALID_ARGUMENT: You must feed a value for placeholder tensor 'Placeholder/_0' with dtype float and shape [1,224,224,3]\n",
      "\t [[{{node Placeholder/_0}}]]\n",
      "2024-10-23 10:37:19.536903: I tensorflow/core/common_runtime/executor.cc:1197] [/device:CPU:0] (DEBUG INFO) Executor start aborting (this does not indicate an error and you can ignore this message): INVALID_ARGUMENT: You must feed a value for placeholder tensor 'Placeholder/_0' with dtype float and shape [1,224,224,3]\n",
      "\t [[{{node Placeholder/_0}}]]\n",
      "Calibration:  25%|██▌       | 16/64 [00:18<00:19,  2.47entries/s]2024-10-23 10:37:19.579765: I tensorflow/core/common_runtime/executor.cc:1197] [/device:CPU:0] (DEBUG INFO) Executor start aborting (this does not indicate an error and you can ignore this message): INVALID_ARGUMENT: You must feed a value for placeholder tensor 'Placeholder/_0' with dtype float and shape [1,224,224,3]\n",
      "\t [[{{node Placeholder/_0}}]]\n",
      "2024-10-23 10:37:19.623101: I tensorflow/core/common_runtime/executor.cc:1197] [/device:CPU:0] (DEBUG INFO) Executor start aborting (this does not indicate an error and you can ignore this message): INVALID_ARGUMENT: You must feed a value for placeholder tensor 'Placeholder/_0' with dtype float and shape [1,224,224,3]\n",
      "\t [[{{node Placeholder/_0}}]]\n",
      "2024-10-23 10:37:19.674081: I tensorflow/core/common_runtime/executor.cc:1197] [/device:CPU:0] (DEBUG INFO) Executor start aborting (this does not indicate an error and you can ignore this message): INVALID_ARGUMENT: You must feed a value for placeholder tensor 'Placeholder/_0' with dtype float and shape [1,224,224,3]\n",
      "\t [[{{node Placeholder/_0}}]]\n",
      "Calibration:  30%|██▉       | 19/64 [00:19<00:12,  3.52entries/s]2024-10-23 10:37:19.717034: I tensorflow/core/common_runtime/executor.cc:1197] [/device:CPU:0] (DEBUG INFO) Executor start aborting (this does not indicate an error and you can ignore this message): INVALID_ARGUMENT: You must feed a value for placeholder tensor 'Placeholder/_0' with dtype float and shape [1,224,224,3]\n",
      "\t [[{{node Placeholder/_0}}]]\n",
      "2024-10-23 10:37:19.759754: I tensorflow/core/common_runtime/executor.cc:1197] [/device:CPU:0] (DEBUG INFO) Executor start aborting (this does not indicate an error and you can ignore this message): INVALID_ARGUMENT: You must feed a value for placeholder tensor 'Placeholder/_0' with dtype float and shape [1,224,224,3]\n",
      "\t [[{{node Placeholder/_0}}]]\n",
      "2024-10-23 10:37:19.801368: I tensorflow/core/common_runtime/executor.cc:1197] [/device:CPU:0] (DEBUG INFO) Executor start aborting (this does not indicate an error and you can ignore this message): INVALID_ARGUMENT: You must feed a value for placeholder tensor 'Placeholder/_0' with dtype float and shape [1,224,224,3]\n",
      "\t [[{{node Placeholder/_0}}]]\n",
      "Calibration:  34%|███▍      | 22/64 [00:19<00:08,  4.86entries/s]2024-10-23 10:37:19.843952: I tensorflow/core/common_runtime/executor.cc:1197] [/device:CPU:0] (DEBUG INFO) Executor start aborting (this does not indicate an error and you can ignore this message): INVALID_ARGUMENT: You must feed a value for placeholder tensor 'Placeholder/_0' with dtype float and shape [1,224,224,3]\n",
      "\t [[{{node Placeholder/_0}}]]\n",
      "2024-10-23 10:37:19.885754: I tensorflow/core/common_runtime/executor.cc:1197] [/device:CPU:0] (DEBUG INFO) Executor start aborting (this does not indicate an error and you can ignore this message): INVALID_ARGUMENT: You must feed a value for placeholder tensor 'Placeholder/_0' with dtype float and shape [1,224,224,3]\n",
      "\t [[{{node Placeholder/_0}}]]\n",
      "2024-10-23 10:37:19.930244: I tensorflow/core/common_runtime/executor.cc:1197] [/device:CPU:0] (DEBUG INFO) Executor start aborting (this does not indicate an error and you can ignore this message): INVALID_ARGUMENT: You must feed a value for placeholder tensor 'Placeholder/_0' with dtype float and shape [1,224,224,3]\n",
      "\t [[{{node Placeholder/_0}}]]\n",
      "Calibration:  39%|███▉      | 25/64 [00:19<00:06,  6.49entries/s]2024-10-23 10:37:19.971990: I tensorflow/core/common_runtime/executor.cc:1197] [/device:CPU:0] (DEBUG INFO) Executor start aborting (this does not indicate an error and you can ignore this message): INVALID_ARGUMENT: You must feed a value for placeholder tensor 'Placeholder/_0' with dtype float and shape [1,224,224,3]\n",
      "\t [[{{node Placeholder/_0}}]]\n",
      "2024-10-23 10:37:20.018739: I tensorflow/core/common_runtime/executor.cc:1197] [/device:CPU:0] (DEBUG INFO) Executor start aborting (this does not indicate an error and you can ignore this message): INVALID_ARGUMENT: You must feed a value for placeholder tensor 'Placeholder/_0' with dtype float and shape [1,224,224,3]\n",
      "\t [[{{node Placeholder/_0}}]]\n",
      "2024-10-23 10:37:20.061597: I tensorflow/core/common_runtime/executor.cc:1197] [/device:CPU:0] (DEBUG INFO) Executor start aborting (this does not indicate an error and you can ignore this message): INVALID_ARGUMENT: You must feed a value for placeholder tensor 'Placeholder/_0' with dtype float and shape [1,224,224,3]\n",
      "\t [[{{node Placeholder/_0}}]]\n",
      "Calibration:  44%|████▍     | 28/64 [00:19<00:04,  8.34entries/s]2024-10-23 10:37:20.103801: I tensorflow/core/common_runtime/executor.cc:1197] [/device:CPU:0] (DEBUG INFO) Executor start aborting (this does not indicate an error and you can ignore this message): INVALID_ARGUMENT: You must feed a value for placeholder tensor 'Placeholder/_0' with dtype float and shape [1,224,224,3]\n",
      "\t [[{{node Placeholder/_0}}]]\n",
      "2024-10-23 10:37:20.147439: I tensorflow/core/common_runtime/executor.cc:1197] [/device:CPU:0] (DEBUG INFO) Executor start aborting (this does not indicate an error and you can ignore this message): INVALID_ARGUMENT: You must feed a value for placeholder tensor 'Placeholder/_0' with dtype float and shape [1,224,224,3]\n",
      "\t [[{{node Placeholder/_0}}]]\n",
      "2024-10-23 10:37:20.189064: I tensorflow/core/common_runtime/executor.cc:1197] [/device:CPU:0] (DEBUG INFO) Executor start aborting (this does not indicate an error and you can ignore this message): INVALID_ARGUMENT: You must feed a value for placeholder tensor 'Placeholder/_0' with dtype float and shape [1,224,224,3]\n",
      "\t [[{{node Placeholder/_0}}]]\n",
      "Calibration:  48%|████▊     | 31/64 [00:19<00:03, 10.41entries/s]2024-10-23 10:37:20.232080: I tensorflow/core/common_runtime/executor.cc:1197] [/device:CPU:0] (DEBUG INFO) Executor start aborting (this does not indicate an error and you can ignore this message): INVALID_ARGUMENT: You must feed a value for placeholder tensor 'Placeholder/_0' with dtype float and shape [1,224,224,3]\n",
      "\t [[{{node Placeholder/_0}}]]\n",
      "2024-10-23 10:37:20.273733: I tensorflow/core/common_runtime/executor.cc:1197] [/device:CPU:0] (DEBUG INFO) Executor start aborting (this does not indicate an error and you can ignore this message): INVALID_ARGUMENT: You must feed a value for placeholder tensor 'Placeholder/_0' with dtype float and shape [1,224,224,3]\n",
      "\t [[{{node Placeholder/_0}}]]\n",
      "2024-10-23 10:37:20.314628: I tensorflow/core/common_runtime/executor.cc:1197] [/device:CPU:0] (DEBUG INFO) Executor start aborting (this does not indicate an error and you can ignore this message): INVALID_ARGUMENT: You must feed a value for placeholder tensor 'Placeholder/_0' with dtype float and shape [1,224,224,3]\n",
      "\t [[{{node Placeholder/_0}}]]\n",
      "Calibration:  53%|█████▎    | 34/64 [00:19<00:02, 12.57entries/s]2024-10-23 10:37:20.358180: I tensorflow/core/common_runtime/executor.cc:1197] [/device:CPU:0] (DEBUG INFO) Executor start aborting (this does not indicate an error and you can ignore this message): INVALID_ARGUMENT: You must feed a value for placeholder tensor 'Placeholder/_0' with dtype float and shape [1,224,224,3]\n",
      "\t [[{{node Placeholder/_0}}]]\n",
      "2024-10-23 10:37:20.401116: I tensorflow/core/common_runtime/executor.cc:1197] [/device:CPU:0] (DEBUG INFO) Executor start aborting (this does not indicate an error and you can ignore this message): INVALID_ARGUMENT: You must feed a value for placeholder tensor 'Placeholder/_0' with dtype float and shape [1,224,224,3]\n",
      "\t [[{{node Placeholder/_0}}]]\n",
      "2024-10-23 10:37:20.443330: I tensorflow/core/common_runtime/executor.cc:1197] [/device:CPU:0] (DEBUG INFO) Executor start aborting (this does not indicate an error and you can ignore this message): INVALID_ARGUMENT: You must feed a value for placeholder tensor 'Placeholder/_0' with dtype float and shape [1,224,224,3]\n",
      "\t [[{{node Placeholder/_0}}]]\n",
      "Calibration:  58%|█████▊    | 37/64 [00:19<00:01, 14.62entries/s]2024-10-23 10:37:20.485983: I tensorflow/core/common_runtime/executor.cc:1197] [/device:CPU:0] (DEBUG INFO) Executor start aborting (this does not indicate an error and you can ignore this message): INVALID_ARGUMENT: You must feed a value for placeholder tensor 'Placeholder/_0' with dtype float and shape [1,224,224,3]\n",
      "\t [[{{node Placeholder/_0}}]]\n",
      "2024-10-23 10:37:20.528282: I tensorflow/core/common_runtime/executor.cc:1197] [/device:CPU:0] (DEBUG INFO) Executor start aborting (this does not indicate an error and you can ignore this message): INVALID_ARGUMENT: You must feed a value for placeholder tensor 'Placeholder/_0' with dtype float and shape [1,224,224,3]\n",
      "\t [[{{node Placeholder/_0}}]]\n",
      "2024-10-23 10:37:20.570491: I tensorflow/core/common_runtime/executor.cc:1197] [/device:CPU:0] (DEBUG INFO) Executor start aborting (this does not indicate an error and you can ignore this message): INVALID_ARGUMENT: You must feed a value for placeholder tensor 'Placeholder/_0' with dtype float and shape [1,224,224,3]\n",
      "\t [[{{node Placeholder/_0}}]]\n",
      "Calibration:  62%|██████▎   | 40/64 [00:19<00:01, 16.51entries/s]2024-10-23 10:37:20.614077: I tensorflow/core/common_runtime/executor.cc:1197] [/device:CPU:0] (DEBUG INFO) Executor start aborting (this does not indicate an error and you can ignore this message): INVALID_ARGUMENT: You must feed a value for placeholder tensor 'Placeholder/_0' with dtype float and shape [1,224,224,3]\n",
      "\t [[{{node Placeholder/_0}}]]\n",
      "2024-10-23 10:37:20.656659: I tensorflow/core/common_runtime/executor.cc:1197] [/device:CPU:0] (DEBUG INFO) Executor start aborting (this does not indicate an error and you can ignore this message): INVALID_ARGUMENT: You must feed a value for placeholder tensor 'Placeholder/_0' with dtype float and shape [1,224,224,3]\n",
      "\t [[{{node Placeholder/_0}}]]\n",
      "2024-10-23 10:37:20.698880: I tensorflow/core/common_runtime/executor.cc:1197] [/device:CPU:0] (DEBUG INFO) Executor start aborting (this does not indicate an error and you can ignore this message): INVALID_ARGUMENT: You must feed a value for placeholder tensor 'Placeholder/_0' with dtype float and shape [1,224,224,3]\n",
      "\t [[{{node Placeholder/_0}}]]\n",
      "Calibration:  67%|██████▋   | 43/64 [00:20<00:01, 18.15entries/s]2024-10-23 10:37:20.741256: I tensorflow/core/common_runtime/executor.cc:1197] [/device:CPU:0] (DEBUG INFO) Executor start aborting (this does not indicate an error and you can ignore this message): INVALID_ARGUMENT: You must feed a value for placeholder tensor 'Placeholder/_0' with dtype float and shape [1,224,224,3]\n",
      "\t [[{{node Placeholder/_0}}]]\n",
      "2024-10-23 10:37:20.783802: I tensorflow/core/common_runtime/executor.cc:1197] [/device:CPU:0] (DEBUG INFO) Executor start aborting (this does not indicate an error and you can ignore this message): INVALID_ARGUMENT: You must feed a value for placeholder tensor 'Placeholder/_0' with dtype float and shape [1,224,224,3]\n",
      "\t [[{{node Placeholder/_0}}]]\n",
      "2024-10-23 10:37:20.827192: I tensorflow/core/common_runtime/executor.cc:1197] [/device:CPU:0] (DEBUG INFO) Executor start aborting (this does not indicate an error and you can ignore this message): INVALID_ARGUMENT: You must feed a value for placeholder tensor 'Placeholder/_0' with dtype float and shape [1,224,224,3]\n",
      "\t [[{{node Placeholder/_0}}]]\n",
      "Calibration:  72%|███████▏  | 46/64 [00:20<00:00, 19.41entries/s]2024-10-23 10:37:20.871111: I tensorflow/core/common_runtime/executor.cc:1197] [/device:CPU:0] (DEBUG INFO) Executor start aborting (this does not indicate an error and you can ignore this message): INVALID_ARGUMENT: You must feed a value for placeholder tensor 'Placeholder/_0' with dtype float and shape [1,224,224,3]\n",
      "\t [[{{node Placeholder/_0}}]]\n",
      "2024-10-23 10:37:20.916366: I tensorflow/core/common_runtime/executor.cc:1197] [/device:CPU:0] (DEBUG INFO) Executor start aborting (this does not indicate an error and you can ignore this message): INVALID_ARGUMENT: You must feed a value for placeholder tensor 'Placeholder/_0' with dtype float and shape [1,224,224,3]\n",
      "\t [[{{node Placeholder/_0}}]]\n",
      "2024-10-23 10:37:20.957348: I tensorflow/core/common_runtime/executor.cc:1197] [/device:CPU:0] (DEBUG INFO) Executor start aborting (this does not indicate an error and you can ignore this message): INVALID_ARGUMENT: You must feed a value for placeholder tensor 'Placeholder/_0' with dtype float and shape [1,224,224,3]\n",
      "\t [[{{node Placeholder/_0}}]]\n",
      "Calibration:  77%|███████▋  | 49/64 [00:20<00:00, 20.39entries/s]2024-10-23 10:37:21.000592: I tensorflow/core/common_runtime/executor.cc:1197] [/device:CPU:0] (DEBUG INFO) Executor start aborting (this does not indicate an error and you can ignore this message): INVALID_ARGUMENT: You must feed a value for placeholder tensor 'Placeholder/_0' with dtype float and shape [1,224,224,3]\n",
      "\t [[{{node Placeholder/_0}}]]\n",
      "2024-10-23 10:37:21.043655: I tensorflow/core/common_runtime/executor.cc:1197] [/device:CPU:0] (DEBUG INFO) Executor start aborting (this does not indicate an error and you can ignore this message): INVALID_ARGUMENT: You must feed a value for placeholder tensor 'Placeholder/_0' with dtype float and shape [1,224,224,3]\n",
      "\t [[{{node Placeholder/_0}}]]\n",
      "2024-10-23 10:37:21.088880: I tensorflow/core/common_runtime/executor.cc:1197] [/device:CPU:0] (DEBUG INFO) Executor start aborting (this does not indicate an error and you can ignore this message): INVALID_ARGUMENT: You must feed a value for placeholder tensor 'Placeholder/_0' with dtype float and shape [1,224,224,3]\n",
      "\t [[{{node Placeholder/_0}}]]\n",
      "Calibration:  81%|████████▏ | 52/64 [00:20<00:00, 21.06entries/s]2024-10-23 10:37:21.132431: I tensorflow/core/common_runtime/executor.cc:1197] [/device:CPU:0] (DEBUG INFO) Executor start aborting (this does not indicate an error and you can ignore this message): INVALID_ARGUMENT: You must feed a value for placeholder tensor 'Placeholder/_0' with dtype float and shape [1,224,224,3]\n",
      "\t [[{{node Placeholder/_0}}]]\n",
      "2024-10-23 10:37:21.176398: I tensorflow/core/common_runtime/executor.cc:1197] [/device:CPU:0] (DEBUG INFO) Executor start aborting (this does not indicate an error and you can ignore this message): INVALID_ARGUMENT: You must feed a value for placeholder tensor 'Placeholder/_0' with dtype float and shape [1,224,224,3]\n",
      "\t [[{{node Placeholder/_0}}]]\n",
      "2024-10-23 10:37:21.219720: I tensorflow/core/common_runtime/executor.cc:1197] [/device:CPU:0] (DEBUG INFO) Executor start aborting (this does not indicate an error and you can ignore this message): INVALID_ARGUMENT: You must feed a value for placeholder tensor 'Placeholder/_0' with dtype float and shape [1,224,224,3]\n",
      "\t [[{{node Placeholder/_0}}]]\n",
      "Calibration:  86%|████████▌ | 55/64 [00:20<00:00, 21.59entries/s]2024-10-23 10:37:21.262913: I tensorflow/core/common_runtime/executor.cc:1197] [/device:CPU:0] (DEBUG INFO) Executor start aborting (this does not indicate an error and you can ignore this message): INVALID_ARGUMENT: You must feed a value for placeholder tensor 'Placeholder/_0' with dtype float and shape [1,224,224,3]\n",
      "\t [[{{node Placeholder/_0}}]]\n",
      "2024-10-23 10:37:21.307036: I tensorflow/core/common_runtime/executor.cc:1197] [/device:CPU:0] (DEBUG INFO) Executor start aborting (this does not indicate an error and you can ignore this message): INVALID_ARGUMENT: You must feed a value for placeholder tensor 'Placeholder/_0' with dtype float and shape [1,224,224,3]\n",
      "\t [[{{node Placeholder/_0}}]]\n",
      "2024-10-23 10:37:21.351930: I tensorflow/core/common_runtime/executor.cc:1197] [/device:CPU:0] (DEBUG INFO) Executor start aborting (this does not indicate an error and you can ignore this message): INVALID_ARGUMENT: You must feed a value for placeholder tensor 'Placeholder/_0' with dtype float and shape [1,224,224,3]\n",
      "\t [[{{node Placeholder/_0}}]]\n",
      "Calibration:  91%|█████████ | 58/64 [00:20<00:00, 21.91entries/s]2024-10-23 10:37:21.395298: I tensorflow/core/common_runtime/executor.cc:1197] [/device:CPU:0] (DEBUG INFO) Executor start aborting (this does not indicate an error and you can ignore this message): INVALID_ARGUMENT: You must feed a value for placeholder tensor 'Placeholder/_0' with dtype float and shape [1,224,224,3]\n",
      "\t [[{{node Placeholder/_0}}]]\n",
      "2024-10-23 10:37:21.438800: I tensorflow/core/common_runtime/executor.cc:1197] [/device:CPU:0] (DEBUG INFO) Executor start aborting (this does not indicate an error and you can ignore this message): INVALID_ARGUMENT: You must feed a value for placeholder tensor 'Placeholder/_0' with dtype float and shape [1,224,224,3]\n",
      "\t [[{{node Placeholder/_0}}]]\n",
      "2024-10-23 10:37:21.482241: I tensorflow/core/common_runtime/executor.cc:1197] [/device:CPU:0] (DEBUG INFO) Executor start aborting (this does not indicate an error and you can ignore this message): INVALID_ARGUMENT: You must feed a value for placeholder tensor 'Placeholder/_0' with dtype float and shape [1,224,224,3]\n",
      "\t [[{{node Placeholder/_0}}]]\n",
      "Calibration:  95%|█████████▌| 61/64 [00:20<00:00, 22.24entries/s]2024-10-23 10:37:21.526028: I tensorflow/core/common_runtime/executor.cc:1197] [/device:CPU:0] (DEBUG INFO) Executor start aborting (this does not indicate an error and you can ignore this message): INVALID_ARGUMENT: You must feed a value for placeholder tensor 'Placeholder/_0' with dtype float and shape [1,224,224,3]\n",
      "\t [[{{node Placeholder/_0}}]]\n",
      "2024-10-23 10:37:21.570357: I tensorflow/core/common_runtime/executor.cc:1197] [/device:CPU:0] (DEBUG INFO) Executor start aborting (this does not indicate an error and you can ignore this message): INVALID_ARGUMENT: You must feed a value for placeholder tensor 'Placeholder/_0' with dtype float and shape [1,224,224,3]\n",
      "\t [[{{node Placeholder/_0}}]]\n",
      "2024-10-23 10:37:21.612630: I tensorflow/core/common_runtime/executor.cc:1197] [/device:CPU:0] (DEBUG INFO) Executor start aborting (this does not indicate an error and you can ignore this message): INVALID_ARGUMENT: You must feed a value for placeholder tensor 'Placeholder/_0' with dtype float and shape [1,224,224,3]\n",
      "\t [[{{node Placeholder/_0}}]]\n",
      "Calibration: 100%|██████████| 64/64 [00:20<00:00,  3.05entries/s]\n"
     ]
    },
    {
     "name": "stdout",
     "output_type": "stream",
     "text": [
      "[info] Statistics Collector is done (completion time is 00:00:22.15)\n",
      "[info] Starting Fix zp_comp Encoding\n",
      "[info] Fix zp_comp Encoding is done (completion time is 00:00:00.00)\n",
      "[info] Starting Matmul Equalization\n"
     ]
    },
    {
     "ename": "ValueError",
     "evalue": "failed to initialize intent(inout) array -- expected elsize=8 but got 4",
     "output_type": "error",
     "traceback": [
      "\u001b[0;31m---------------------------------------------------------------------------\u001b[0m",
      "\u001b[0;31mValueError\u001b[0m                                Traceback (most recent call last)",
      "Cell \u001b[0;32mIn[8], line 15\u001b[0m\n\u001b[1;32m     12\u001b[0m runner\u001b[38;5;241m.\u001b[39mload_model_script(alls)\n\u001b[1;32m     14\u001b[0m \u001b[38;5;66;03m# Call Optimize to perform the optimization process\u001b[39;00m\n\u001b[0;32m---> 15\u001b[0m \u001b[43mrunner\u001b[49m\u001b[38;5;241;43m.\u001b[39;49m\u001b[43moptimize\u001b[49m\u001b[43m(\u001b[49m\u001b[43mcalib_dataset\u001b[49m\u001b[43m)\u001b[49m\n\u001b[1;32m     17\u001b[0m \u001b[38;5;66;03m# Save the result state to a Quantized HAR file\u001b[39;00m\n\u001b[1;32m     18\u001b[0m quantized_model_har_path \u001b[38;5;241m=\u001b[39m \u001b[38;5;124mf\u001b[39m\u001b[38;5;124m\"\u001b[39m\u001b[38;5;132;01m{\u001b[39;00mmodel_name\u001b[38;5;132;01m}\u001b[39;00m\u001b[38;5;124m_quantized_model.har\u001b[39m\u001b[38;5;124m\"\u001b[39m\n",
      "File \u001b[0;32m~/Documents/ProjWork1_DFC/hailoDFC/hailodfc/lib/python3.10/site-packages/hailo_sdk_common/states/states.py:16\u001b[0m, in \u001b[0;36mallowed_states.<locals>.wrap.<locals>.wrapped_func\u001b[0;34m(self, *args, **kwargs)\u001b[0m\n\u001b[1;32m     12\u001b[0m \u001b[38;5;28;01mif\u001b[39;00m \u001b[38;5;28mself\u001b[39m\u001b[38;5;241m.\u001b[39m_state \u001b[38;5;129;01mnot\u001b[39;00m \u001b[38;5;129;01min\u001b[39;00m states:\n\u001b[1;32m     13\u001b[0m     \u001b[38;5;28;01mraise\u001b[39;00m InvalidStateException(\n\u001b[1;32m     14\u001b[0m         \u001b[38;5;124mf\u001b[39m\u001b[38;5;124m\"\u001b[39m\u001b[38;5;124mThe execution of \u001b[39m\u001b[38;5;132;01m{\u001b[39;00mfunc\u001b[38;5;241m.\u001b[39m\u001b[38;5;18m__name__\u001b[39m\u001b[38;5;132;01m}\u001b[39;00m\u001b[38;5;124m is not available under the state: \u001b[39m\u001b[38;5;132;01m{\u001b[39;00m\u001b[38;5;28mself\u001b[39m\u001b[38;5;241m.\u001b[39m_state\u001b[38;5;241m.\u001b[39mvalue\u001b[38;5;132;01m}\u001b[39;00m\u001b[38;5;124m\"\u001b[39m,\n\u001b[1;32m     15\u001b[0m     )\n\u001b[0;32m---> 16\u001b[0m \u001b[38;5;28;01mreturn\u001b[39;00m \u001b[43mfunc\u001b[49m\u001b[43m(\u001b[49m\u001b[38;5;28;43mself\u001b[39;49m\u001b[43m,\u001b[49m\u001b[43m \u001b[49m\u001b[38;5;241;43m*\u001b[39;49m\u001b[43margs\u001b[49m\u001b[43m,\u001b[49m\u001b[43m \u001b[49m\u001b[38;5;241;43m*\u001b[39;49m\u001b[38;5;241;43m*\u001b[39;49m\u001b[43mkwargs\u001b[49m\u001b[43m)\u001b[49m\n",
      "File \u001b[0;32m~/Documents/ProjWork1_DFC/hailoDFC/hailodfc/lib/python3.10/site-packages/hailo_sdk_client/runner/client_runner.py:2093\u001b[0m, in \u001b[0;36mClientRunner.optimize\u001b[0;34m(self, calib_data, data_type, work_dir)\u001b[0m\n\u001b[1;32m   2061\u001b[0m \u001b[38;5;129m@allowed_states\u001b[39m(States\u001b[38;5;241m.\u001b[39mHAILO_MODEL, States\u001b[38;5;241m.\u001b[39mFP_OPTIMIZED_MODEL)\n\u001b[1;32m   2062\u001b[0m \u001b[38;5;28;01mdef\u001b[39;00m \u001b[38;5;21moptimize\u001b[39m(\u001b[38;5;28mself\u001b[39m, calib_data, data_type\u001b[38;5;241m=\u001b[39mCalibrationDataType\u001b[38;5;241m.\u001b[39mauto, work_dir\u001b[38;5;241m=\u001b[39m\u001b[38;5;28;01mNone\u001b[39;00m):\n\u001b[1;32m   2063\u001b[0m \u001b[38;5;250m    \u001b[39m\u001b[38;5;124;03m\"\"\"\u001b[39;00m\n\u001b[1;32m   2064\u001b[0m \u001b[38;5;124;03m    Apply optimizations to the model:\u001b[39;00m\n\u001b[1;32m   2065\u001b[0m \n\u001b[0;32m   (...)\u001b[0m\n\u001b[1;32m   2091\u001b[0m \n\u001b[1;32m   2092\u001b[0m \u001b[38;5;124;03m    \"\"\"\u001b[39;00m\n\u001b[0;32m-> 2093\u001b[0m     \u001b[38;5;28;43mself\u001b[39;49m\u001b[38;5;241;43m.\u001b[39;49m\u001b[43m_optimize\u001b[49m\u001b[43m(\u001b[49m\u001b[43mcalib_data\u001b[49m\u001b[43m,\u001b[49m\u001b[43m \u001b[49m\u001b[43mdata_type\u001b[49m\u001b[38;5;241;43m=\u001b[39;49m\u001b[43mdata_type\u001b[49m\u001b[43m,\u001b[49m\u001b[43m \u001b[49m\u001b[43mwork_dir\u001b[49m\u001b[38;5;241;43m=\u001b[39;49m\u001b[43mwork_dir\u001b[49m\u001b[43m)\u001b[49m\n",
      "File \u001b[0;32m~/Documents/ProjWork1_DFC/hailoDFC/hailodfc/lib/python3.10/site-packages/hailo_sdk_common/states/states.py:16\u001b[0m, in \u001b[0;36mallowed_states.<locals>.wrap.<locals>.wrapped_func\u001b[0;34m(self, *args, **kwargs)\u001b[0m\n\u001b[1;32m     12\u001b[0m \u001b[38;5;28;01mif\u001b[39;00m \u001b[38;5;28mself\u001b[39m\u001b[38;5;241m.\u001b[39m_state \u001b[38;5;129;01mnot\u001b[39;00m \u001b[38;5;129;01min\u001b[39;00m states:\n\u001b[1;32m     13\u001b[0m     \u001b[38;5;28;01mraise\u001b[39;00m InvalidStateException(\n\u001b[1;32m     14\u001b[0m         \u001b[38;5;124mf\u001b[39m\u001b[38;5;124m\"\u001b[39m\u001b[38;5;124mThe execution of \u001b[39m\u001b[38;5;132;01m{\u001b[39;00mfunc\u001b[38;5;241m.\u001b[39m\u001b[38;5;18m__name__\u001b[39m\u001b[38;5;132;01m}\u001b[39;00m\u001b[38;5;124m is not available under the state: \u001b[39m\u001b[38;5;132;01m{\u001b[39;00m\u001b[38;5;28mself\u001b[39m\u001b[38;5;241m.\u001b[39m_state\u001b[38;5;241m.\u001b[39mvalue\u001b[38;5;132;01m}\u001b[39;00m\u001b[38;5;124m\"\u001b[39m,\n\u001b[1;32m     15\u001b[0m     )\n\u001b[0;32m---> 16\u001b[0m \u001b[38;5;28;01mreturn\u001b[39;00m \u001b[43mfunc\u001b[49m\u001b[43m(\u001b[49m\u001b[38;5;28;43mself\u001b[39;49m\u001b[43m,\u001b[49m\u001b[43m \u001b[49m\u001b[38;5;241;43m*\u001b[39;49m\u001b[43margs\u001b[49m\u001b[43m,\u001b[49m\u001b[43m \u001b[49m\u001b[38;5;241;43m*\u001b[39;49m\u001b[38;5;241;43m*\u001b[39;49m\u001b[43mkwargs\u001b[49m\u001b[43m)\u001b[49m\n",
      "File \u001b[0;32m~/Documents/ProjWork1_DFC/hailoDFC/hailodfc/lib/python3.10/site-packages/hailo_sdk_client/runner/client_runner.py:1935\u001b[0m, in \u001b[0;36mClientRunner._optimize\u001b[0;34m(self, calib_data, data_type, work_dir)\u001b[0m\n\u001b[1;32m   1933\u001b[0m \u001b[38;5;28;01mif\u001b[39;00m \u001b[38;5;28mself\u001b[39m\u001b[38;5;241m.\u001b[39m_state \u001b[38;5;241m==\u001b[39m States\u001b[38;5;241m.\u001b[39mHAILO_MODEL:\n\u001b[1;32m   1934\u001b[0m     \u001b[38;5;28mself\u001b[39m\u001b[38;5;241m.\u001b[39m_optimize_full_precision(calib_data\u001b[38;5;241m=\u001b[39mcalib_data, data_type\u001b[38;5;241m=\u001b[39mdata_type)\n\u001b[0;32m-> 1935\u001b[0m \u001b[38;5;28;43mself\u001b[39;49m\u001b[38;5;241;43m.\u001b[39;49m\u001b[43m_sdk_backend\u001b[49m\u001b[38;5;241;43m.\u001b[39;49m\u001b[43mfull_quantization\u001b[49m\u001b[43m(\u001b[49m\u001b[43mcalib_data\u001b[49m\u001b[43m,\u001b[49m\u001b[43m \u001b[49m\u001b[43mdata_type\u001b[49m\u001b[38;5;241;43m=\u001b[39;49m\u001b[43mdata_type\u001b[49m\u001b[43m,\u001b[49m\u001b[43m \u001b[49m\u001b[43mwork_dir\u001b[49m\u001b[38;5;241;43m=\u001b[39;49m\u001b[43mwork_dir\u001b[49m\u001b[43m)\u001b[49m\n\u001b[1;32m   1936\u001b[0m \u001b[38;5;28mself\u001b[39m\u001b[38;5;241m.\u001b[39m_state \u001b[38;5;241m=\u001b[39m States\u001b[38;5;241m.\u001b[39mQUANTIZED_MODEL\n",
      "File \u001b[0;32m~/Documents/ProjWork1_DFC/hailoDFC/hailodfc/lib/python3.10/site-packages/hailo_sdk_client/sdk_backend/sdk_backend.py:1045\u001b[0m, in \u001b[0;36mSDKBackendQuantization.full_quantization\u001b[0;34m(self, data, data_type, work_dir, force_results_by_layer)\u001b[0m\n\u001b[1;32m   1043\u001b[0m \u001b[38;5;28mself\u001b[39m\u001b[38;5;241m.\u001b[39mpre_quantization_structural()\n\u001b[1;32m   1044\u001b[0m params_pre_quantization \u001b[38;5;241m=\u001b[39m copy\u001b[38;5;241m.\u001b[39mdeepcopy(\u001b[38;5;28mself\u001b[39m\u001b[38;5;241m.\u001b[39mget_params_pre_quantization())\n\u001b[0;32m-> 1045\u001b[0m \u001b[38;5;28;43mself\u001b[39;49m\u001b[38;5;241;43m.\u001b[39;49m\u001b[43m_full_acceleras_run\u001b[49m\u001b[43m(\u001b[49m\u001b[38;5;28;43mself\u001b[39;49m\u001b[38;5;241;43m.\u001b[39;49m\u001b[43mcalibration_data\u001b[49m\u001b[43m,\u001b[49m\u001b[43m \u001b[49m\u001b[43mdata_type\u001b[49m\u001b[43m)\u001b[49m\n\u001b[1;32m   1046\u001b[0m \u001b[38;5;28mself\u001b[39m\u001b[38;5;241m.\u001b[39m_logger\u001b[38;5;241m.\u001b[39mverbose(\u001b[38;5;124m\"\u001b[39m\u001b[38;5;124mCore and post Quantization is done with Acceleras\u001b[39m\u001b[38;5;124m\"\u001b[39m)\n\u001b[1;32m   1047\u001b[0m \u001b[38;5;28mself\u001b[39m\u001b[38;5;241m.\u001b[39m_finalize_quantization()\n",
      "File \u001b[0;32m~/Documents/ProjWork1_DFC/hailoDFC/hailodfc/lib/python3.10/site-packages/hailo_sdk_client/sdk_backend/sdk_backend.py:1229\u001b[0m, in \u001b[0;36mSDKBackendQuantization._full_acceleras_run\u001b[0;34m(self, data, data_type)\u001b[0m\n\u001b[1;32m   1224\u001b[0m     \u001b[38;5;28;01melse\u001b[39;00m:\n\u001b[1;32m   1225\u001b[0m         \u001b[38;5;66;03m# the compression level and the optimization level are not set to the recommended values\u001b[39;00m\n\u001b[1;32m   1226\u001b[0m         \u001b[38;5;28mself\u001b[39m\u001b[38;5;241m.\u001b[39m_logger\u001b[38;5;241m.\u001b[39minfo(\n\u001b[1;32m   1227\u001b[0m             \u001b[38;5;124mf\u001b[39m\u001b[38;5;124m\"\u001b[39m\u001b[38;5;124mTo obtain best performance for models with number of parameters larger than \u001b[39m\u001b[38;5;132;01m{\u001b[39;00m\u001b[38;5;28mself\u001b[39m\u001b[38;5;241m.\u001b[39mhw_arch\u001b[38;5;241m.\u001b[39mHAILO15_LARGE_MODEL_PARAMS_TH\u001b[38;5;132;01m}\u001b[39;00m\u001b[38;5;124m, it is recommended to use optimization level and compression level \u001b[39m\u001b[38;5;132;01m{\u001b[39;00mRECOMMENDED_OPTM_LEVEL\u001b[38;5;132;01m}\u001b[39;00m\u001b[38;5;124m.\u001b[39m\u001b[38;5;124m\"\u001b[39m\n\u001b[1;32m   1228\u001b[0m         )\n\u001b[0;32m-> 1229\u001b[0m \u001b[43moptimization_flow\u001b[49m\u001b[38;5;241;43m.\u001b[39;49m\u001b[43mrun\u001b[49m\u001b[43m(\u001b[49m\u001b[43m)\u001b[49m\n\u001b[1;32m   1230\u001b[0m fp_after_optimization \u001b[38;5;241m=\u001b[39m optimization_flow\u001b[38;5;241m.\u001b[39mget_acceleras_params()\n\u001b[1;32m   1231\u001b[0m \u001b[38;5;28mself\u001b[39m\u001b[38;5;241m.\u001b[39msave_and_load_params_hailo_optimized(fp_after_optimization)\n",
      "File \u001b[0;32m~/Documents/ProjWork1_DFC/hailoDFC/hailodfc/lib/python3.10/site-packages/hailo_model_optimization/tools/orchestator.py:306\u001b[0m, in \u001b[0;36mflow_control_method.<locals>.wrapper\u001b[0;34m(self, *args, **kwargs)\u001b[0m\n\u001b[1;32m    302\u001b[0m             \u001b[38;5;28msetattr\u001b[39m(\u001b[38;5;28mself\u001b[39m, attr_name, method_wrapper(method, sup))\n\u001b[1;32m    304\u001b[0m \u001b[38;5;28;01mtry\u001b[39;00m:\n\u001b[1;32m    305\u001b[0m     \u001b[38;5;66;03m# Execute the original run function\u001b[39;00m\n\u001b[0;32m--> 306\u001b[0m     \u001b[38;5;28;01mreturn\u001b[39;00m \u001b[43mfunc\u001b[49m\u001b[43m(\u001b[49m\u001b[38;5;28;43mself\u001b[39;49m\u001b[43m,\u001b[49m\u001b[43m \u001b[49m\u001b[38;5;241;43m*\u001b[39;49m\u001b[43margs\u001b[49m\u001b[43m,\u001b[49m\u001b[43m \u001b[49m\u001b[38;5;241;43m*\u001b[39;49m\u001b[38;5;241;43m*\u001b[39;49m\u001b[43mkwargs\u001b[49m\u001b[43m)\u001b[49m\n\u001b[1;32m    308\u001b[0m \u001b[38;5;28;01mfinally\u001b[39;00m:\n\u001b[1;32m    309\u001b[0m     \u001b[38;5;66;03m# Restore original methods after run execution\u001b[39;00m\n\u001b[1;32m    310\u001b[0m     \u001b[38;5;28mself\u001b[39m\u001b[38;5;241m.\u001b[39m_call_history \u001b[38;5;241m=\u001b[39m sup\u001b[38;5;241m.\u001b[39mexport() \u001b[38;5;28;01mif\u001b[39;00m sup\u001b[38;5;241m.\u001b[39mcurrent_checkpoint \u001b[38;5;28;01melse\u001b[39;00m \u001b[38;5;28;01mNone\u001b[39;00m\n",
      "File \u001b[0;32m~/Documents/ProjWork1_DFC/hailoDFC/hailodfc/lib/python3.10/site-packages/hailo_model_optimization/flows/optimization_flow.py:326\u001b[0m, in \u001b[0;36mOptimizationFlow.run\u001b[0;34m(self, memento, run_until)\u001b[0m\n\u001b[1;32m    324\u001b[0m \u001b[38;5;28;01mfor\u001b[39;00m ind, step_func \u001b[38;5;129;01min\u001b[39;00m \u001b[38;5;28menumerate\u001b[39m(step_funcs):\n\u001b[1;32m    325\u001b[0m     \u001b[38;5;28mself\u001b[39m\u001b[38;5;241m.\u001b[39m_step_index \u001b[38;5;241m=\u001b[39m ind\n\u001b[0;32m--> 326\u001b[0m     \u001b[43mstep_func\u001b[49m\u001b[43m(\u001b[49m\u001b[43m)\u001b[49m\n",
      "File \u001b[0;32m~/Documents/ProjWork1_DFC/hailoDFC/hailodfc/lib/python3.10/site-packages/hailo_model_optimization/tools/orchestator.py:250\u001b[0m, in \u001b[0;36mflow_control_method.<locals>.wrapper.<locals>.method_wrapper.<locals>.wrapped\u001b[0;34m(*args, **kwargs)\u001b[0m\n\u001b[1;32m    248\u001b[0m \u001b[38;5;28;01mif\u001b[39;00m sup\u001b[38;5;241m.\u001b[39mstate \u001b[38;5;241m==\u001b[39m SupervisorState\u001b[38;5;241m.\u001b[39mRUNNING:\n\u001b[1;32m    249\u001b[0m     \u001b[38;5;28;01mwith\u001b[39;00m sup\u001b[38;5;241m.\u001b[39mvisit_node(method_name):\n\u001b[0;32m--> 250\u001b[0m         result \u001b[38;5;241m=\u001b[39m \u001b[43mmethod\u001b[49m\u001b[43m(\u001b[49m\u001b[38;5;241;43m*\u001b[39;49m\u001b[43margs\u001b[49m\u001b[43m,\u001b[49m\u001b[43m \u001b[49m\u001b[38;5;241;43m*\u001b[39;49m\u001b[38;5;241;43m*\u001b[39;49m\u001b[43mkwargs\u001b[49m\u001b[43m)\u001b[49m\n\u001b[1;32m    251\u001b[0m         \u001b[38;5;28;01mif\u001b[39;00m method_name \u001b[38;5;241m==\u001b[39m run_until:\n\u001b[1;32m    252\u001b[0m             sup\u001b[38;5;241m.\u001b[39mstate \u001b[38;5;241m=\u001b[39m SupervisorState\u001b[38;5;241m.\u001b[39mDISABLED\n",
      "File \u001b[0;32m~/Documents/ProjWork1_DFC/hailoDFC/hailodfc/lib/python3.10/site-packages/hailo_model_optimization/tools/subprocess_wrapper.py:124\u001b[0m, in \u001b[0;36msubprocess_wrapper.<locals>.decorator.<locals>.parent_wrapper\u001b[0;34m(self, *args, **kwargs)\u001b[0m\n\u001b[1;32m    122\u001b[0m \u001b[38;5;28mself\u001b[39m\u001b[38;5;241m.\u001b[39mdist_info \u001b[38;5;241m=\u001b[39m dist_info\n\u001b[1;32m    123\u001b[0m \u001b[38;5;28mself\u001b[39m\u001b[38;5;241m.\u001b[39mbuild_model()\n\u001b[0;32m--> 124\u001b[0m \u001b[43mfunc\u001b[49m\u001b[43m(\u001b[49m\u001b[38;5;28;43mself\u001b[39;49m\u001b[43m,\u001b[49m\u001b[43m \u001b[49m\u001b[38;5;241;43m*\u001b[39;49m\u001b[43margs\u001b[49m\u001b[43m,\u001b[49m\u001b[43m \u001b[49m\u001b[38;5;241;43m*\u001b[39;49m\u001b[38;5;241;43m*\u001b[39;49m\u001b[43mkwargs\u001b[49m\u001b[43m)\u001b[49m\n\u001b[1;32m    126\u001b[0m \u001b[38;5;66;03m# This flag should be present in Develop\u001b[39;00m\n\u001b[1;32m    127\u001b[0m \u001b[38;5;28;01mif\u001b[39;00m force_rebuild:\n",
      "File \u001b[0;32m~/Documents/ProjWork1_DFC/hailoDFC/hailodfc/lib/python3.10/site-packages/hailo_model_optimization/flows/optimization_flow.py:345\u001b[0m, in \u001b[0;36mOptimizationFlow.step1\u001b[0;34m(self)\u001b[0m\n\u001b[1;32m    343\u001b[0m \u001b[38;5;28mself\u001b[39m\u001b[38;5;241m.\u001b[39m_update_fp_data()\n\u001b[1;32m    344\u001b[0m \u001b[38;5;28mself\u001b[39m\u001b[38;5;241m.\u001b[39mpre_quantization_optimization()\n\u001b[0;32m--> 345\u001b[0m \u001b[38;5;28;43mself\u001b[39;49m\u001b[38;5;241;43m.\u001b[39;49m\u001b[43mcore_quantization\u001b[49m\u001b[43m(\u001b[49m\u001b[43m)\u001b[49m\n\u001b[1;32m    346\u001b[0m \u001b[38;5;28mself\u001b[39m\u001b[38;5;241m.\u001b[39m_update_quantize_data()\n",
      "File \u001b[0;32m~/Documents/ProjWork1_DFC/hailoDFC/hailodfc/lib/python3.10/site-packages/hailo_model_optimization/tools/orchestator.py:250\u001b[0m, in \u001b[0;36mflow_control_method.<locals>.wrapper.<locals>.method_wrapper.<locals>.wrapped\u001b[0;34m(*args, **kwargs)\u001b[0m\n\u001b[1;32m    248\u001b[0m \u001b[38;5;28;01mif\u001b[39;00m sup\u001b[38;5;241m.\u001b[39mstate \u001b[38;5;241m==\u001b[39m SupervisorState\u001b[38;5;241m.\u001b[39mRUNNING:\n\u001b[1;32m    249\u001b[0m     \u001b[38;5;28;01mwith\u001b[39;00m sup\u001b[38;5;241m.\u001b[39mvisit_node(method_name):\n\u001b[0;32m--> 250\u001b[0m         result \u001b[38;5;241m=\u001b[39m \u001b[43mmethod\u001b[49m\u001b[43m(\u001b[49m\u001b[38;5;241;43m*\u001b[39;49m\u001b[43margs\u001b[49m\u001b[43m,\u001b[49m\u001b[43m \u001b[49m\u001b[38;5;241;43m*\u001b[39;49m\u001b[38;5;241;43m*\u001b[39;49m\u001b[43mkwargs\u001b[49m\u001b[43m)\u001b[49m\n\u001b[1;32m    251\u001b[0m         \u001b[38;5;28;01mif\u001b[39;00m method_name \u001b[38;5;241m==\u001b[39m run_until:\n\u001b[1;32m    252\u001b[0m             sup\u001b[38;5;241m.\u001b[39mstate \u001b[38;5;241m=\u001b[39m SupervisorState\u001b[38;5;241m.\u001b[39mDISABLED\n",
      "File \u001b[0;32m~/Documents/ProjWork1_DFC/hailoDFC/hailodfc/lib/python3.10/site-packages/hailo_model_optimization/flows/optimization_flow.py:402\u001b[0m, in \u001b[0;36mOptimizationFlow.core_quantization\u001b[0;34m(self)\u001b[0m\n\u001b[1;32m    400\u001b[0m \u001b[38;5;28mself\u001b[39m\u001b[38;5;241m.\u001b[39m_force_preact_stats()\n\u001b[1;32m    401\u001b[0m \u001b[38;5;28mself\u001b[39m\u001b[38;5;241m.\u001b[39m_fix_zp_comp_encoding()\n\u001b[0;32m--> 402\u001b[0m \u001b[38;5;28;43mself\u001b[39;49m\u001b[38;5;241;43m.\u001b[39;49m\u001b[43m_matmul_equalization\u001b[49m\u001b[43m(\u001b[49m\u001b[43m)\u001b[49m\n\u001b[1;32m    403\u001b[0m \u001b[38;5;28mself\u001b[39m\u001b[38;5;241m.\u001b[39m_create_hw_params()\n",
      "File \u001b[0;32m~/Documents/ProjWork1_DFC/hailoDFC/hailodfc/lib/python3.10/site-packages/hailo_model_optimization/tools/orchestator.py:250\u001b[0m, in \u001b[0;36mflow_control_method.<locals>.wrapper.<locals>.method_wrapper.<locals>.wrapped\u001b[0;34m(*args, **kwargs)\u001b[0m\n\u001b[1;32m    248\u001b[0m \u001b[38;5;28;01mif\u001b[39;00m sup\u001b[38;5;241m.\u001b[39mstate \u001b[38;5;241m==\u001b[39m SupervisorState\u001b[38;5;241m.\u001b[39mRUNNING:\n\u001b[1;32m    249\u001b[0m     \u001b[38;5;28;01mwith\u001b[39;00m sup\u001b[38;5;241m.\u001b[39mvisit_node(method_name):\n\u001b[0;32m--> 250\u001b[0m         result \u001b[38;5;241m=\u001b[39m \u001b[43mmethod\u001b[49m\u001b[43m(\u001b[49m\u001b[38;5;241;43m*\u001b[39;49m\u001b[43margs\u001b[49m\u001b[43m,\u001b[49m\u001b[43m \u001b[49m\u001b[38;5;241;43m*\u001b[39;49m\u001b[38;5;241;43m*\u001b[39;49m\u001b[43mkwargs\u001b[49m\u001b[43m)\u001b[49m\n\u001b[1;32m    251\u001b[0m         \u001b[38;5;28;01mif\u001b[39;00m method_name \u001b[38;5;241m==\u001b[39m run_until:\n\u001b[1;32m    252\u001b[0m             sup\u001b[38;5;241m.\u001b[39mstate \u001b[38;5;241m=\u001b[39m SupervisorState\u001b[38;5;241m.\u001b[39mDISABLED\n",
      "File \u001b[0;32m~/Documents/ProjWork1_DFC/hailoDFC/hailodfc/lib/python3.10/site-packages/hailo_model_optimization/flows/optimization_flow.py:582\u001b[0m, in \u001b[0;36mOptimizationFlow._matmul_equalization\u001b[0;34m(self)\u001b[0m\n\u001b[1;32m    580\u001b[0m \u001b[38;5;28;01mdef\u001b[39;00m \u001b[38;5;21m_matmul_equalization\u001b[39m(\u001b[38;5;28mself\u001b[39m):\n\u001b[1;32m    581\u001b[0m     algo \u001b[38;5;241m=\u001b[39m MatmulEqualization(\u001b[38;5;28mself\u001b[39m\u001b[38;5;241m.\u001b[39mmodel, \u001b[38;5;28mself\u001b[39m\u001b[38;5;241m.\u001b[39m_parsed_config, logging\u001b[38;5;241m.\u001b[39mINFO, \u001b[38;5;28mself\u001b[39m\u001b[38;5;241m.\u001b[39m_logger)\n\u001b[0;32m--> 582\u001b[0m     \u001b[43malgo\u001b[49m\u001b[38;5;241;43m.\u001b[39;49m\u001b[43mrun\u001b[49m\u001b[43m(\u001b[49m\u001b[43m)\u001b[49m\n\u001b[1;32m    583\u001b[0m     \u001b[38;5;28mself\u001b[39m\u001b[38;5;241m.\u001b[39m_finalize_algorithm(algo)\n",
      "File \u001b[0;32m~/Documents/ProjWork1_DFC/hailoDFC/hailodfc/lib/python3.10/site-packages/hailo_model_optimization/algorithms/optimization_algorithm.py:50\u001b[0m, in \u001b[0;36mOptimizationAlgorithm.run\u001b[0;34m(self)\u001b[0m\n\u001b[1;32m     48\u001b[0m \u001b[38;5;28;01mdef\u001b[39;00m \u001b[38;5;21mrun\u001b[39m(\u001b[38;5;28mself\u001b[39m):\n\u001b[1;32m     49\u001b[0m     \u001b[38;5;28mself\u001b[39m\u001b[38;5;241m.\u001b[39mfinalize_config()\n\u001b[0;32m---> 50\u001b[0m     \u001b[38;5;28;01mreturn\u001b[39;00m \u001b[38;5;28;43msuper\u001b[39;49m\u001b[43m(\u001b[49m\u001b[43m)\u001b[49m\u001b[38;5;241;43m.\u001b[39;49m\u001b[43mrun\u001b[49m\u001b[43m(\u001b[49m\u001b[43m)\u001b[49m\n",
      "File \u001b[0;32m~/Documents/ProjWork1_DFC/hailoDFC/hailodfc/lib/python3.10/site-packages/hailo_model_optimization/algorithms/algorithm_base.py:150\u001b[0m, in \u001b[0;36mAlgorithmBase.run\u001b[0;34m(self, memento)\u001b[0m\n\u001b[1;32m    148\u001b[0m         \u001b[38;5;28mself\u001b[39m\u001b[38;5;241m.\u001b[39mrestore(memento)\n\u001b[1;32m    149\u001b[0m     start_time \u001b[38;5;241m=\u001b[39m time\u001b[38;5;241m.\u001b[39mtime()\n\u001b[0;32m--> 150\u001b[0m     \u001b[38;5;28;43mself\u001b[39;49m\u001b[38;5;241;43m.\u001b[39;49m\u001b[43m_run_int\u001b[49m\u001b[43m(\u001b[49m\u001b[43m)\u001b[49m\n\u001b[1;32m    151\u001b[0m     \u001b[38;5;28mself\u001b[39m\u001b[38;5;241m.\u001b[39m_results\u001b[38;5;241m.\u001b[39mstatus \u001b[38;5;241m=\u001b[39m AlgorithmStatus\u001b[38;5;241m.\u001b[39mSUCCESSFULLY_DONE\n\u001b[1;32m    152\u001b[0m \u001b[38;5;28;01mexcept\u001b[39;00m \u001b[38;5;167;01mKeyboardInterrupt\u001b[39;00m:\n",
      "File \u001b[0;32m~/Documents/ProjWork1_DFC/hailoDFC/hailodfc/lib/python3.10/site-packages/hailo_model_optimization/algorithms/matmul_equalization/matmul_equalization.py:123\u001b[0m, in \u001b[0;36mMatmulEqualization._run_int\u001b[0;34m(self)\u001b[0m\n\u001b[1;32m    117\u001b[0m     \u001b[38;5;28mself\u001b[39m\u001b[38;5;241m.\u001b[39m_logger\u001b[38;5;241m.\u001b[39minfo(\n\u001b[1;32m    118\u001b[0m         \u001b[38;5;124mf\u001b[39m\u001b[38;5;124m\"\u001b[39m\u001b[38;5;132;01m{\u001b[39;00m\u001b[38;5;28mself\u001b[39m\u001b[38;5;241m.\u001b[39m_name\u001b[38;5;132;01m}\u001b[39;00m\u001b[38;5;124m: Could not be apply because it \u001b[39m\u001b[38;5;124m\"\u001b[39m\n\u001b[1;32m    119\u001b[0m         \u001b[38;5;124mf\u001b[39m\u001b[38;5;124m\"\u001b[39m\u001b[38;5;124mhas an unsuported layer \u001b[39m\u001b[38;5;132;01m{\u001b[39;00me\u001b[38;5;241m.\u001b[39mlayer_name\u001b[38;5;132;01m}\u001b[39;00m\u001b[38;5;124m on its inputs flow\u001b[39m\u001b[38;5;124m\"\u001b[39m\n\u001b[1;32m    120\u001b[0m     )\n\u001b[1;32m    121\u001b[0m     \u001b[38;5;28;01mreturn\u001b[39;00m\n\u001b[0;32m--> 123\u001b[0m \u001b[38;5;28;43mself\u001b[39;49m\u001b[38;5;241;43m.\u001b[39;49m\u001b[43mequalize_input_paths\u001b[49m\u001b[43m(\u001b[49m\u001b[43mnormal_subflow\u001b[49m\u001b[43m,\u001b[49m\u001b[43m \u001b[49m\u001b[43mtranspose_subflow\u001b[49m\u001b[43m,\u001b[49m\u001b[43m \u001b[49m\u001b[43mlayer\u001b[49m\u001b[43m)\u001b[49m\n\u001b[1;32m    124\u001b[0m \u001b[38;5;28mself\u001b[39m\u001b[38;5;241m.\u001b[39mmatmul_propagation(block)\n",
      "File \u001b[0;32m~/Documents/ProjWork1_DFC/hailoDFC/hailodfc/lib/python3.10/site-packages/hailo_model_optimization/algorithms/matmul_equalization/matmul_equalization.py:154\u001b[0m, in \u001b[0;36mMatmulEqualization.equalize_input_paths\u001b[0;34m(self, normal_flow, transpose_flow, layer)\u001b[0m\n\u001b[1;32m    151\u001b[0m factors \u001b[38;5;241m=\u001b[39m np\u001b[38;5;241m.\u001b[39mones(layer\u001b[38;5;241m.\u001b[39mgroups, dtype\u001b[38;5;241m=\u001b[39mnp\u001b[38;5;241m.\u001b[39mfloat32)\n\u001b[1;32m    153\u001b[0m \u001b[38;5;28;01mfor\u001b[39;00m _ \u001b[38;5;129;01min\u001b[39;00m \u001b[38;5;28mrange\u001b[39m(\u001b[38;5;241m2\u001b[39m):\n\u001b[0;32m--> 154\u001b[0m     \u001b[43mset_scales_forward\u001b[49m\u001b[43m(\u001b[49m\u001b[38;5;28;43mself\u001b[39;49m\u001b[38;5;241;43m.\u001b[39;49m\u001b[43m_model\u001b[49m\u001b[43m,\u001b[49m\u001b[43m \u001b[49m\u001b[43mnormal_flow\u001b[49m\u001b[43m,\u001b[49m\u001b[43m \u001b[49m\u001b[43mlayer\u001b[49m\u001b[38;5;241;43m.\u001b[39;49m\u001b[43mgroups\u001b[49m\u001b[43m,\u001b[49m\u001b[43m \u001b[49m\u001b[43mfactors\u001b[49m\u001b[43m)\u001b[49m\n\u001b[1;32m    155\u001b[0m     set_scales_forward(\u001b[38;5;28mself\u001b[39m\u001b[38;5;241m.\u001b[39m_model, transpose_flow, layer\u001b[38;5;241m.\u001b[39mgroups, factors, transpose\u001b[38;5;241m=\u001b[39m\u001b[38;5;28;01mTrue\u001b[39;00m)\n\u001b[1;32m    157\u001b[0m     fix_scales_reduce_sum(\u001b[38;5;28mself\u001b[39m\u001b[38;5;241m.\u001b[39m_model, transpose_flow, layer\u001b[38;5;241m.\u001b[39mgroups, layer, \u001b[38;5;28mself\u001b[39m\u001b[38;5;241m.\u001b[39m_logger)\n",
      "File \u001b[0;32m~/Documents/ProjWork1_DFC/hailoDFC/hailodfc/lib/python3.10/site-packages/hailo_model_optimization/algorithms/matmul_equalization/matmul_equalization.py:332\u001b[0m, in \u001b[0;36mset_scales_forward\u001b[0;34m(model, flow, groups, factors, transpose)\u001b[0m\n\u001b[1;32m    330\u001b[0m in_node \u001b[38;5;241m=\u001b[39m flow\u001b[38;5;241m.\u001b[39mget_sources()[\u001b[38;5;241m0\u001b[39m]\n\u001b[1;32m    331\u001b[0m in_layer \u001b[38;5;241m=\u001b[39m model\u001b[38;5;241m.\u001b[39mlayers[in_node]\n\u001b[0;32m--> 332\u001b[0m scales, zp_points \u001b[38;5;241m=\u001b[39m \u001b[43mget_scales_output\u001b[49m\u001b[43m(\u001b[49m\u001b[43min_layer\u001b[49m\u001b[43m,\u001b[49m\u001b[43m \u001b[49m\u001b[43mgroups\u001b[49m\u001b[43m,\u001b[49m\u001b[43m \u001b[49m\u001b[43mfactors\u001b[49m\u001b[43m,\u001b[49m\u001b[43m \u001b[49m\u001b[43mtranspose\u001b[49m\u001b[43m)\u001b[49m\n\u001b[1;32m    333\u001b[0m in_layer\u001b[38;5;241m.\u001b[39mset_output_scale(scales, \u001b[38;5;241m0\u001b[39m)\n\u001b[1;32m    334\u001b[0m in_layer\u001b[38;5;241m.\u001b[39mset_output_zero_point(zp_points, \u001b[38;5;241m0\u001b[39m)\n",
      "File \u001b[0;32m~/Documents/ProjWork1_DFC/hailoDFC/hailodfc/lib/python3.10/site-packages/hailo_model_optimization/algorithms/matmul_equalization/matmul_equalization.py:359\u001b[0m, in \u001b[0;36mget_scales_output\u001b[0;34m(layer, groups, factors, transpose)\u001b[0m\n\u001b[1;32m    357\u001b[0m     \u001b[38;5;28;01melse\u001b[39;00m:\n\u001b[1;32m    358\u001b[0m         candidate_zp, candidate_scale, _ \u001b[38;5;241m=\u001b[39m limvals_to_zp_scale(layer\u001b[38;5;241m.\u001b[39mget_output_limvals()[\u001b[38;5;241m0\u001b[39m], lossy_element)\n\u001b[0;32m--> 359\u001b[0m         scales, zp \u001b[38;5;241m=\u001b[39m \u001b[43mfind_the_best_zp\u001b[49m\u001b[43m(\u001b[49m\n\u001b[1;32m    360\u001b[0m \u001b[43m            \u001b[49m\u001b[43mxmin\u001b[49m\u001b[38;5;241;43m=\u001b[39;49m\u001b[43mmin_vals\u001b[49m\u001b[43m,\u001b[49m\n\u001b[1;32m    361\u001b[0m \u001b[43m            \u001b[49m\u001b[43mxmax\u001b[49m\u001b[38;5;241;43m=\u001b[39;49m\u001b[43mmax_vals\u001b[49m\u001b[43m,\u001b[49m\n\u001b[1;32m    362\u001b[0m \u001b[43m            \u001b[49m\u001b[43mbins\u001b[49m\u001b[38;5;241;43m=\u001b[39;49m\u001b[43mbins\u001b[49m\u001b[43m,\u001b[49m\n\u001b[1;32m    363\u001b[0m \u001b[43m            \u001b[49m\u001b[43mstart_scales\u001b[49m\u001b[38;5;241;43m=\u001b[39;49m\u001b[43mnp\u001b[49m\u001b[38;5;241;43m.\u001b[39;49m\u001b[43mrepeat\u001b[49m\u001b[43m(\u001b[49m\u001b[43mcandidate_scale\u001b[49m\u001b[43m,\u001b[49m\u001b[43m \u001b[49m\u001b[43mmax_vals\u001b[49m\u001b[38;5;241;43m.\u001b[39;49m\u001b[43msize\u001b[49m\u001b[43m)\u001b[49m\u001b[43m,\u001b[49m\n\u001b[1;32m    364\u001b[0m \u001b[43m            \u001b[49m\u001b[43mstart_zp\u001b[49m\u001b[38;5;241;43m=\u001b[39;49m\u001b[43mcandidate_zp\u001b[49m\u001b[43m,\u001b[49m\n\u001b[1;32m    365\u001b[0m \u001b[43m        \u001b[49m\u001b[43m)\u001b[49m\n\u001b[1;32m    367\u001b[0m \u001b[38;5;28;01melse\u001b[39;00m:\n\u001b[1;32m    368\u001b[0m     scales \u001b[38;5;241m=\u001b[39m np\u001b[38;5;241m.\u001b[39marray(\n\u001b[1;32m    369\u001b[0m         [\n\u001b[1;32m    370\u001b[0m             scale\n\u001b[0;32m   (...)\u001b[0m\n\u001b[1;32m    374\u001b[0m         ]\n\u001b[1;32m    375\u001b[0m     )\n",
      "File \u001b[0;32m~/Documents/ProjWork1_DFC/hailoDFC/hailodfc/lib/python3.10/site-packages/hailo_model_optimization/algorithms/matmul_equalization/optimal_zp_finder.py:237\u001b[0m, in \u001b[0;36mfind_the_best_zp\u001b[0;34m(xmin, xmax, bins, start_scales, start_zp)\u001b[0m\n\u001b[1;32m    229\u001b[0m cons \u001b[38;5;241m=\u001b[39m [\n\u001b[1;32m    230\u001b[0m     {\u001b[38;5;124m\"\u001b[39m\u001b[38;5;124mtype\u001b[39m\u001b[38;5;124m\"\u001b[39m: \u001b[38;5;124m\"\u001b[39m\u001b[38;5;124mineq\u001b[39m\u001b[38;5;124m\"\u001b[39m, \u001b[38;5;124m\"\u001b[39m\u001b[38;5;124mfun\u001b[39m\u001b[38;5;124m\"\u001b[39m: constraint1},\n\u001b[1;32m    231\u001b[0m     {\u001b[38;5;124m\"\u001b[39m\u001b[38;5;124mtype\u001b[39m\u001b[38;5;124m\"\u001b[39m: \u001b[38;5;124m\"\u001b[39m\u001b[38;5;124mineq\u001b[39m\u001b[38;5;124m\"\u001b[39m, \u001b[38;5;124m\"\u001b[39m\u001b[38;5;124mfun\u001b[39m\u001b[38;5;124m\"\u001b[39m: constraint2},\n\u001b[1;32m    232\u001b[0m     {\u001b[38;5;124m\"\u001b[39m\u001b[38;5;124mtype\u001b[39m\u001b[38;5;124m\"\u001b[39m: \u001b[38;5;124m\"\u001b[39m\u001b[38;5;124mineq\u001b[39m\u001b[38;5;124m\"\u001b[39m, \u001b[38;5;124m\"\u001b[39m\u001b[38;5;124mfun\u001b[39m\u001b[38;5;124m\"\u001b[39m: constraint3},\n\u001b[1;32m    233\u001b[0m     {\u001b[38;5;124m\"\u001b[39m\u001b[38;5;124mtype\u001b[39m\u001b[38;5;124m\"\u001b[39m: \u001b[38;5;124m\"\u001b[39m\u001b[38;5;124mineq\u001b[39m\u001b[38;5;124m\"\u001b[39m, \u001b[38;5;124m\"\u001b[39m\u001b[38;5;124mfun\u001b[39m\u001b[38;5;124m\"\u001b[39m: constraint4},\n\u001b[1;32m    234\u001b[0m ]\n\u001b[1;32m    236\u001b[0m \u001b[38;5;66;03m# Call minimize\u001b[39;00m\n\u001b[0;32m--> 237\u001b[0m result \u001b[38;5;241m=\u001b[39m \u001b[43mminimize\u001b[49m\u001b[43m(\u001b[49m\u001b[43mobjective\u001b[49m\u001b[43m,\u001b[49m\u001b[43m \u001b[49m\u001b[43mx0\u001b[49m\u001b[43m,\u001b[49m\u001b[43m \u001b[49m\u001b[43mmethod\u001b[49m\u001b[38;5;241;43m=\u001b[39;49m\u001b[38;5;124;43m\"\u001b[39;49m\u001b[38;5;124;43mSLSQP\u001b[39;49m\u001b[38;5;124;43m\"\u001b[39;49m\u001b[43m,\u001b[49m\u001b[43m \u001b[49m\u001b[43mconstraints\u001b[49m\u001b[38;5;241;43m=\u001b[39;49m\u001b[43mcons\u001b[49m\u001b[43m)\u001b[49m\n\u001b[1;32m    238\u001b[0m \u001b[38;5;28;01mif\u001b[39;00m result\u001b[38;5;241m.\u001b[39msuccess:\n\u001b[1;32m    239\u001b[0m     zp \u001b[38;5;241m=\u001b[39m result\u001b[38;5;241m.\u001b[39mx[\u001b[38;5;241m-\u001b[39m\u001b[38;5;241m1\u001b[39m]  \u001b[38;5;66;03m# Last element is zp\u001b[39;00m\n",
      "File \u001b[0;32m~/Documents/ProjWork1_DFC/hailoDFC/hailodfc/lib/python3.10/site-packages/scipy/optimize/_minimize.py:722\u001b[0m, in \u001b[0;36mminimize\u001b[0;34m(fun, x0, args, method, jac, hess, hessp, bounds, constraints, tol, callback, options)\u001b[0m\n\u001b[1;32m    719\u001b[0m     res \u001b[38;5;241m=\u001b[39m _minimize_cobyla(fun, x0, args, constraints, callback\u001b[38;5;241m=\u001b[39mcallback,\n\u001b[1;32m    720\u001b[0m                            bounds\u001b[38;5;241m=\u001b[39mbounds, \u001b[38;5;241m*\u001b[39m\u001b[38;5;241m*\u001b[39moptions)\n\u001b[1;32m    721\u001b[0m \u001b[38;5;28;01melif\u001b[39;00m meth \u001b[38;5;241m==\u001b[39m \u001b[38;5;124m'\u001b[39m\u001b[38;5;124mslsqp\u001b[39m\u001b[38;5;124m'\u001b[39m:\n\u001b[0;32m--> 722\u001b[0m     res \u001b[38;5;241m=\u001b[39m \u001b[43m_minimize_slsqp\u001b[49m\u001b[43m(\u001b[49m\u001b[43mfun\u001b[49m\u001b[43m,\u001b[49m\u001b[43m \u001b[49m\u001b[43mx0\u001b[49m\u001b[43m,\u001b[49m\u001b[43m \u001b[49m\u001b[43margs\u001b[49m\u001b[43m,\u001b[49m\u001b[43m \u001b[49m\u001b[43mjac\u001b[49m\u001b[43m,\u001b[49m\u001b[43m \u001b[49m\u001b[43mbounds\u001b[49m\u001b[43m,\u001b[49m\n\u001b[1;32m    723\u001b[0m \u001b[43m                          \u001b[49m\u001b[43mconstraints\u001b[49m\u001b[43m,\u001b[49m\u001b[43m \u001b[49m\u001b[43mcallback\u001b[49m\u001b[38;5;241;43m=\u001b[39;49m\u001b[43mcallback\u001b[49m\u001b[43m,\u001b[49m\u001b[43m \u001b[49m\u001b[38;5;241;43m*\u001b[39;49m\u001b[38;5;241;43m*\u001b[39;49m\u001b[43moptions\u001b[49m\u001b[43m)\u001b[49m\n\u001b[1;32m    724\u001b[0m \u001b[38;5;28;01melif\u001b[39;00m meth \u001b[38;5;241m==\u001b[39m \u001b[38;5;124m'\u001b[39m\u001b[38;5;124mtrust-constr\u001b[39m\u001b[38;5;124m'\u001b[39m:\n\u001b[1;32m    725\u001b[0m     res \u001b[38;5;241m=\u001b[39m _minimize_trustregion_constr(fun, x0, args, jac, hess, hessp,\n\u001b[1;32m    726\u001b[0m                                        bounds, constraints,\n\u001b[1;32m    727\u001b[0m                                        callback\u001b[38;5;241m=\u001b[39mcallback, \u001b[38;5;241m*\u001b[39m\u001b[38;5;241m*\u001b[39moptions)\n",
      "File \u001b[0;32m~/Documents/ProjWork1_DFC/hailoDFC/hailodfc/lib/python3.10/site-packages/scipy/optimize/_slsqp_py.py:431\u001b[0m, in \u001b[0;36m_minimize_slsqp\u001b[0;34m(func, x0, args, jac, bounds, constraints, maxiter, ftol, iprint, disp, eps, callback, finite_diff_rel_step, **unknown_options)\u001b[0m\n\u001b[1;32m    427\u001b[0m a \u001b[38;5;241m=\u001b[39m _eval_con_normals(x, cons, la, n, m, meq, mieq)\n\u001b[1;32m    429\u001b[0m \u001b[38;5;28;01mwhile\u001b[39;00m \u001b[38;5;241m1\u001b[39m:\n\u001b[1;32m    430\u001b[0m     \u001b[38;5;66;03m# Call SLSQP\u001b[39;00m\n\u001b[0;32m--> 431\u001b[0m     \u001b[43mslsqp\u001b[49m\u001b[43m(\u001b[49m\u001b[43mm\u001b[49m\u001b[43m,\u001b[49m\u001b[43m \u001b[49m\u001b[43mmeq\u001b[49m\u001b[43m,\u001b[49m\u001b[43m \u001b[49m\u001b[43mx\u001b[49m\u001b[43m,\u001b[49m\u001b[43m \u001b[49m\u001b[43mxl\u001b[49m\u001b[43m,\u001b[49m\u001b[43m \u001b[49m\u001b[43mxu\u001b[49m\u001b[43m,\u001b[49m\u001b[43m \u001b[49m\u001b[43mfx\u001b[49m\u001b[43m,\u001b[49m\u001b[43m \u001b[49m\u001b[43mc\u001b[49m\u001b[43m,\u001b[49m\u001b[43m \u001b[49m\u001b[43mg\u001b[49m\u001b[43m,\u001b[49m\u001b[43m \u001b[49m\u001b[43ma\u001b[49m\u001b[43m,\u001b[49m\u001b[43m \u001b[49m\u001b[43macc\u001b[49m\u001b[43m,\u001b[49m\u001b[43m \u001b[49m\u001b[43mmajiter\u001b[49m\u001b[43m,\u001b[49m\u001b[43m \u001b[49m\u001b[43mmode\u001b[49m\u001b[43m,\u001b[49m\u001b[43m \u001b[49m\u001b[43mw\u001b[49m\u001b[43m,\u001b[49m\u001b[43m \u001b[49m\u001b[43mjw\u001b[49m\u001b[43m,\u001b[49m\n\u001b[1;32m    432\u001b[0m \u001b[43m          \u001b[49m\u001b[43malpha\u001b[49m\u001b[43m,\u001b[49m\u001b[43m \u001b[49m\u001b[43mf0\u001b[49m\u001b[43m,\u001b[49m\u001b[43m \u001b[49m\u001b[43mgs\u001b[49m\u001b[43m,\u001b[49m\u001b[43m \u001b[49m\u001b[43mh1\u001b[49m\u001b[43m,\u001b[49m\u001b[43m \u001b[49m\u001b[43mh2\u001b[49m\u001b[43m,\u001b[49m\u001b[43m \u001b[49m\u001b[43mh3\u001b[49m\u001b[43m,\u001b[49m\u001b[43m \u001b[49m\u001b[43mh4\u001b[49m\u001b[43m,\u001b[49m\u001b[43m \u001b[49m\u001b[43mt\u001b[49m\u001b[43m,\u001b[49m\u001b[43m \u001b[49m\u001b[43mt0\u001b[49m\u001b[43m,\u001b[49m\u001b[43m \u001b[49m\u001b[43mtol\u001b[49m\u001b[43m,\u001b[49m\n\u001b[1;32m    433\u001b[0m \u001b[43m          \u001b[49m\u001b[43miexact\u001b[49m\u001b[43m,\u001b[49m\u001b[43m \u001b[49m\u001b[43mincons\u001b[49m\u001b[43m,\u001b[49m\u001b[43m \u001b[49m\u001b[43mireset\u001b[49m\u001b[43m,\u001b[49m\u001b[43m \u001b[49m\u001b[43mitermx\u001b[49m\u001b[43m,\u001b[49m\u001b[43m \u001b[49m\u001b[43mline\u001b[49m\u001b[43m,\u001b[49m\n\u001b[1;32m    434\u001b[0m \u001b[43m          \u001b[49m\u001b[43mn1\u001b[49m\u001b[43m,\u001b[49m\u001b[43m \u001b[49m\u001b[43mn2\u001b[49m\u001b[43m,\u001b[49m\u001b[43m \u001b[49m\u001b[43mn3\u001b[49m\u001b[43m)\u001b[49m\n\u001b[1;32m    436\u001b[0m     \u001b[38;5;28;01mif\u001b[39;00m mode \u001b[38;5;241m==\u001b[39m \u001b[38;5;241m1\u001b[39m:  \u001b[38;5;66;03m# objective and constraint evaluation required\u001b[39;00m\n\u001b[1;32m    437\u001b[0m         fx \u001b[38;5;241m=\u001b[39m wrapped_fun(x)\n",
      "\u001b[0;31mValueError\u001b[0m: failed to initialize intent(inout) array -- expected elsize=8 but got 4"
     ]
    }
   ],
   "source": [
    "# Now we will create a model script, that tells the compiler to add a normalization on the beginning\n",
    "# of the model (that is why we didn't normalize the calibration set;\n",
    "# Otherwise we would have to normalize it before using it)\n",
    "\n",
    "# Batch size is 8 by default\n",
    "# alls = \"normalization1 = normalization([123.675, 116.28, 103.53], [58.395, 57.12, 57.375])\\n\" # From tutorial\n",
    "\n",
    "# Normalize((0.48145466, 0.4578275, 0.40821073), (0.26862954, 0.26130258, 0.27577711)), # From Lia\n",
    "alls = \"normalization1 = normalization([0.48145466, 0.4578275, 0.40821073], [0.26862954, 0.26130258, 0.27577711])\\n\"\n",
    "\n",
    "# Load the model script to ClientRunner so it will be considered on optimization\n",
    "runner.load_model_script(alls)\n",
    "\n",
    "# Call Optimize to perform the optimization process\n",
    "runner.optimize(calib_dataset)\n",
    "\n",
    "# Save the result state to a Quantized HAR file\n",
    "quantized_model_har_path = f\"{model_name}_quantized_model.har\"\n",
    "runner.save_har(quantized_model_har_path)"
   ]
  },
  {
   "cell_type": "markdown",
   "metadata": {},
   "source": [
    "## Har(optimized) to hef\n"
   ]
  },
  {
   "cell_type": "code",
   "execution_count": null,
   "metadata": {},
   "outputs": [],
   "source": [
    "from hailo_sdk_client import ClientRunner\n",
    "\n",
    "model_name = \"RN50x4\"\n",
    "quantized_model_har_path = modelPath / f\"{model_name}_quantized_model.har\"\n",
    "\n",
    "runner = ClientRunner(har=quantized_model_har_path)\n",
    "# By default it uses the hw_arch that is saved on the HAR. It is not recommended to change the hw_arch after Optimization.\n",
    "\n",
    "hef = runner.compile()\n",
    "\n",
    "file_name = f\"{model_name}.hef\"\n",
    "with open(file_name, \"wb\") as f:\n",
    "    f.write(hef)"
   ]
  }
 ],
 "metadata": {
  "kernelspec": {
   "display_name": "hailodfc",
   "language": "python",
   "name": "python3"
  },
  "language_info": {
   "codemirror_mode": {
    "name": "ipython",
    "version": 3
   },
   "file_extension": ".py",
   "mimetype": "text/x-python",
   "name": "python",
   "nbconvert_exporter": "python",
   "pygments_lexer": "ipython3",
   "version": "3.10.12"
  }
 },
 "nbformat": 4,
 "nbformat_minor": 2
}
